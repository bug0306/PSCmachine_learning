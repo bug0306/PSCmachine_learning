{
 "cells": [
  {
   "cell_type": "code",
   "execution_count": 1,
   "metadata": {},
   "outputs": [],
   "source": [
    "import pandas as pd\n",
    "import numpy as np\n",
    "import matplotlib.pyplot as plt\n",
    "import matplotlib.mlab as mlab \n",
    "from random import *\n",
    "import re"
   ]
  },
  {
   "cell_type": "code",
   "execution_count": 74,
   "metadata": {},
   "outputs": [
    {
     "data": {
      "text/plain": [
       "(325, 20)"
      ]
     },
     "execution_count": 74,
     "metadata": {},
     "output_type": "execute_result"
    }
   ],
   "source": [
    "df=pd.read_excel(\"./TCP_datasets.xlsx\")\n",
    "df.shape"
   ]
  },
  {
   "cell_type": "code",
   "execution_count": 75,
   "metadata": {},
   "outputs": [],
   "source": [
    "#remove formula wordspace\n",
    "def removespace(element):\n",
    "    return element.replace(\" \",\"\")\n",
    "df[\"Perovskite\"]=df[\"Perovskite\"].apply(removespace)\n",
    "df.to_excel(\"./TCP_datasets.xlsx\",index=False)"
   ]
  },
  {
   "cell_type": "code",
   "execution_count": 76,
   "metadata": {},
   "outputs": [
    {
     "data": {
      "text/html": [
       "<div>\n",
       "<style scoped>\n",
       "    .dataframe tbody tr th:only-of-type {\n",
       "        vertical-align: middle;\n",
       "    }\n",
       "\n",
       "    .dataframe tbody tr th {\n",
       "        vertical-align: top;\n",
       "    }\n",
       "\n",
       "    .dataframe thead th {\n",
       "        text-align: right;\n",
       "    }\n",
       "</style>\n",
       "<table border=\"1\" class=\"dataframe\">\n",
       "  <thead>\n",
       "    <tr style=\"text-align: right;\">\n",
       "      <th></th>\n",
       "      <th>Perovskite</th>\n",
       "      <th>bandgap(eV)</th>\n",
       "      <th>glass</th>\n",
       "      <th>ETL</th>\n",
       "      <th>ETL-2</th>\n",
       "      <th>ETL \\nthickness(um)</th>\n",
       "      <th>HTL</th>\n",
       "      <th>HTL \\nthickness(um)</th>\n",
       "      <th>meta</th>\n",
       "      <th>Perovskite \\ndeposition\\n procedure</th>\n",
       "      <th>Perovskite\\n deposition\\n method</th>\n",
       "      <th>Anti-solvent \\ntreatment</th>\n",
       "      <th>Precursor\\n solution</th>\n",
       "      <th>Annealing\\n temperature (°C)</th>\n",
       "      <th>Annealing\\n time (minutes)</th>\n",
       "      <th>Jsc</th>\n",
       "      <th>Voc</th>\n",
       "      <th>FF</th>\n",
       "      <th>PCE</th>\n",
       "      <th>Article</th>\n",
       "    </tr>\n",
       "  </thead>\n",
       "  <tbody>\n",
       "    <tr>\n",
       "      <th>0</th>\n",
       "      <td>Cs0.05(MA0.1615FA0.7885)Pb(I2.49Br0.51)</td>\n",
       "      <td>1.60</td>\n",
       "      <td>FTO</td>\n",
       "      <td>TiO2</td>\n",
       "      <td>NaN</td>\n",
       "      <td>0.04</td>\n",
       "      <td>CuSbS2</td>\n",
       "      <td>0.100</td>\n",
       "      <td>Pt</td>\n",
       "      <td>two-step</td>\n",
       "      <td>spin</td>\n",
       "      <td>CB</td>\n",
       "      <td>DMF, DMSO and NMP</td>\n",
       "      <td>100.0</td>\n",
       "      <td>60.0</td>\n",
       "      <td>22.68</td>\n",
       "      <td>1.14</td>\n",
       "      <td>0.7600</td>\n",
       "      <td>19.61</td>\n",
       "      <td>Jaiswal, N., Singh, V.P., Kumari, D. and Pande...</td>\n",
       "    </tr>\n",
       "    <tr>\n",
       "      <th>1</th>\n",
       "      <td>Cs0.05MA0.05FA0.9PbI3</td>\n",
       "      <td>NaN</td>\n",
       "      <td>FTO</td>\n",
       "      <td>c-TiO2</td>\n",
       "      <td>meso-TiO2</td>\n",
       "      <td>NaN</td>\n",
       "      <td>piro-OMeTAD</td>\n",
       "      <td>0.070</td>\n",
       "      <td>Au</td>\n",
       "      <td>two-step</td>\n",
       "      <td>spin</td>\n",
       "      <td>hlorobenzene</td>\n",
       "      <td>DMF, DMSO</td>\n",
       "      <td>100.0</td>\n",
       "      <td>60.0</td>\n",
       "      <td>25.32</td>\n",
       "      <td>1.12</td>\n",
       "      <td>0.8370</td>\n",
       "      <td>23.76</td>\n",
       "      <td>P. Dörflinger, Y. Ding, V. Schmid, M. Armer, R...</td>\n",
       "    </tr>\n",
       "    <tr>\n",
       "      <th>2</th>\n",
       "      <td>Cs0.05MA0.05FA0.9PbI3</td>\n",
       "      <td>NaN</td>\n",
       "      <td>FTO</td>\n",
       "      <td>c-TiO2</td>\n",
       "      <td>meso-TiO2</td>\n",
       "      <td>NaN</td>\n",
       "      <td>piro-OMeTAD</td>\n",
       "      <td>0.070</td>\n",
       "      <td>Au</td>\n",
       "      <td>two-step</td>\n",
       "      <td>spin</td>\n",
       "      <td>hlorobenzene</td>\n",
       "      <td>DMF, DMSOand[Dmmim]Cl</td>\n",
       "      <td>100.0</td>\n",
       "      <td>60.0</td>\n",
       "      <td>25.26</td>\n",
       "      <td>1.15</td>\n",
       "      <td>0.8400</td>\n",
       "      <td>24.46</td>\n",
       "      <td>P. Dörflinger, Y. Ding, V. Schmid, M. Armer, R...</td>\n",
       "    </tr>\n",
       "    <tr>\n",
       "      <th>3</th>\n",
       "      <td>Cs0.05(MA0.1615FA0.7885)Pb(I2.79Br0.21)</td>\n",
       "      <td>1.55</td>\n",
       "      <td>Quartz/ITO</td>\n",
       "      <td>SnO2</td>\n",
       "      <td>NaN</td>\n",
       "      <td>NaN</td>\n",
       "      <td>P3HT</td>\n",
       "      <td>NaN</td>\n",
       "      <td>BCP</td>\n",
       "      <td>two-step</td>\n",
       "      <td>spin</td>\n",
       "      <td>CB</td>\n",
       "      <td>DMF,DMSO</td>\n",
       "      <td>150.0</td>\n",
       "      <td>15.0</td>\n",
       "      <td>19.7</td>\n",
       "      <td>0.90</td>\n",
       "      <td>0.5700</td>\n",
       "      <td>10.70</td>\n",
       "      <td>Yu Miyazawa, Gyu Min Kim, Ayumi Ishii, Masashi...</td>\n",
       "    </tr>\n",
       "    <tr>\n",
       "      <th>4</th>\n",
       "      <td>Cs0.05(FA0.7885MA0.1615)Pb(I2.49Br0.51)</td>\n",
       "      <td>1.62</td>\n",
       "      <td>ITO</td>\n",
       "      <td>SnO2</td>\n",
       "      <td>NaN</td>\n",
       "      <td>NaN</td>\n",
       "      <td>PTAA</td>\n",
       "      <td>0.017</td>\n",
       "      <td>Ag</td>\n",
       "      <td>two-step</td>\n",
       "      <td>spin</td>\n",
       "      <td>ANI</td>\n",
       "      <td>DMF:DMSO:NMP</td>\n",
       "      <td>100.0</td>\n",
       "      <td>40.0</td>\n",
       "      <td>20.33</td>\n",
       "      <td>1.01</td>\n",
       "      <td>0.8073</td>\n",
       "      <td>16.50</td>\n",
       "      <td>P. K. Deendyal, S. Dhakla, H. Singh, A. Taya, ...</td>\n",
       "    </tr>\n",
       "  </tbody>\n",
       "</table>\n",
       "</div>"
      ],
      "text/plain": [
       "                                Perovskite  bandgap(eV)       glass     ETL  \\\n",
       "0  Cs0.05(MA0.1615FA0.7885)Pb(I2.49Br0.51)         1.60         FTO    TiO2   \n",
       "1                    Cs0.05MA0.05FA0.9PbI3          NaN         FTO  c-TiO2   \n",
       "2                    Cs0.05MA0.05FA0.9PbI3          NaN         FTO  c-TiO2   \n",
       "3  Cs0.05(MA0.1615FA0.7885)Pb(I2.79Br0.21)         1.55  Quartz/ITO    SnO2   \n",
       "4  Cs0.05(FA0.7885MA0.1615)Pb(I2.49Br0.51)         1.62         ITO    SnO2   \n",
       "\n",
       "       ETL-2 ETL \\nthickness(um)          HTL  HTL \\nthickness(um) meta  \\\n",
       "0        NaN                0.04       CuSbS2                0.100   Pt   \n",
       "1  meso-TiO2                 NaN  piro-OMeTAD                0.070   Au   \n",
       "2  meso-TiO2                 NaN  piro-OMeTAD                0.070   Au   \n",
       "3        NaN                 NaN         P3HT                  NaN  BCP   \n",
       "4        NaN                 NaN         PTAA                0.017   Ag   \n",
       "\n",
       "  Perovskite \\ndeposition\\n procedure Perovskite\\n deposition\\n method  \\\n",
       "0                            two-step                             spin   \n",
       "1                            two-step                             spin   \n",
       "2                            two-step                             spin   \n",
       "3                            two-step                             spin   \n",
       "4                            two-step                             spin   \n",
       "\n",
       "  Anti-solvent \\ntreatment   Precursor\\n solution  \\\n",
       "0                      CB       DMF, DMSO and NMP   \n",
       "1             hlorobenzene              DMF, DMSO   \n",
       "2             hlorobenzene  DMF, DMSOand[Dmmim]Cl   \n",
       "3                      CB                DMF,DMSO   \n",
       "4                     ANI            DMF:DMSO:NMP   \n",
       "\n",
       "   Annealing\\n temperature (°C)   Annealing\\n time (minutes)     Jsc   Voc  \\\n",
       "0                          100.0                         60.0  22.68  1.14   \n",
       "1                          100.0                         60.0  25.32  1.12   \n",
       "2                          100.0                         60.0  25.26  1.15   \n",
       "3                          150.0                         15.0   19.7  0.90   \n",
       "4                          100.0                         40.0  20.33  1.01   \n",
       "\n",
       "       FF    PCE                                            Article  \n",
       "0  0.7600  19.61  Jaiswal, N., Singh, V.P., Kumari, D. and Pande...  \n",
       "1  0.8370  23.76  P. Dörflinger, Y. Ding, V. Schmid, M. Armer, R...  \n",
       "2  0.8400  24.46  P. Dörflinger, Y. Ding, V. Schmid, M. Armer, R...  \n",
       "3  0.5700  10.70  Yu Miyazawa, Gyu Min Kim, Ayumi Ishii, Masashi...  \n",
       "4  0.8073  16.50  P. K. Deendyal, S. Dhakla, H. Singh, A. Taya, ...  "
      ]
     },
     "execution_count": 76,
     "metadata": {},
     "output_type": "execute_result"
    }
   ],
   "source": [
    "#remove formula parentheses\n",
    "def process_string(input_string):\n",
    "    def process_group(group):\n",
    "        group_content = group.group(1)\n",
    "        group_coefficient = float(group.group(2)) if group.group(2) else 1.0\n",
    "        processed_content = re.sub(r'([A-Za-z])([0-9.]*)', \n",
    "                                   lambda x: f\"{x.group(1)}{float(x.group(2)) * group_coefficient:.4g}\" if x.group(2) else x.group(1),\n",
    "                                   group_content)\n",
    "        return f\"({processed_content})\"\n",
    "    result = re.sub(r'\\((.*?)\\)([0-9.]*)', lambda x: process_group(x), input_string)\n",
    "    return result\n",
    "df[\"Perovskite\"]=df[\"Perovskite\"].apply(process_string)\n",
    "df.head(5)"
   ]
  },
  {
   "cell_type": "code",
   "execution_count": 77,
   "metadata": {},
   "outputs": [],
   "source": [
    "#去除左右的括号\n",
    "def removespace(element):\n",
    "    return element.replace(\"(\",\"\").replace(\")\",\"\")\n",
    "df[\"Perovskite\"]=df[\"Perovskite\"].apply(removespace)\n"
   ]
  },
  {
   "cell_type": "code",
   "execution_count": 78,
   "metadata": {},
   "outputs": [
    {
     "data": {
      "text/html": [
       "<div>\n",
       "<style scoped>\n",
       "    .dataframe tbody tr th:only-of-type {\n",
       "        vertical-align: middle;\n",
       "    }\n",
       "\n",
       "    .dataframe tbody tr th {\n",
       "        vertical-align: top;\n",
       "    }\n",
       "\n",
       "    .dataframe thead th {\n",
       "        text-align: right;\n",
       "    }\n",
       "</style>\n",
       "<table border=\"1\" class=\"dataframe\">\n",
       "  <thead>\n",
       "    <tr style=\"text-align: right;\">\n",
       "      <th></th>\n",
       "      <th>Perovskite</th>\n",
       "      <th>bandgap(eV)</th>\n",
       "      <th>glass</th>\n",
       "      <th>ETL</th>\n",
       "      <th>ETL-2</th>\n",
       "      <th>ETL \\nthickness(um)</th>\n",
       "      <th>HTL</th>\n",
       "      <th>HTL \\nthickness(um)</th>\n",
       "      <th>meta</th>\n",
       "      <th>Perovskite \\ndeposition\\n procedure</th>\n",
       "      <th>Perovskite\\n deposition\\n method</th>\n",
       "      <th>Anti-solvent \\ntreatment</th>\n",
       "      <th>Precursor\\n solution</th>\n",
       "      <th>Annealing\\n temperature (°C)</th>\n",
       "      <th>Annealing\\n time (minutes)</th>\n",
       "      <th>Jsc</th>\n",
       "      <th>Voc</th>\n",
       "      <th>FF</th>\n",
       "      <th>PCE</th>\n",
       "      <th>Article</th>\n",
       "    </tr>\n",
       "  </thead>\n",
       "  <tbody>\n",
       "    <tr>\n",
       "      <th>0</th>\n",
       "      <td>Cs0.05MA0.1615FA0.7885PbI2.49Br0.51</td>\n",
       "      <td>1.6</td>\n",
       "      <td>FTO</td>\n",
       "      <td>TiO2</td>\n",
       "      <td>NaN</td>\n",
       "      <td>0.04</td>\n",
       "      <td>CuSbS2</td>\n",
       "      <td>0.1</td>\n",
       "      <td>Pt</td>\n",
       "      <td>two-step</td>\n",
       "      <td>spin</td>\n",
       "      <td>CB</td>\n",
       "      <td>DMF, DMSO and NMP</td>\n",
       "      <td>100.0</td>\n",
       "      <td>60.0</td>\n",
       "      <td>22.68</td>\n",
       "      <td>1.14</td>\n",
       "      <td>0.76</td>\n",
       "      <td>19.61</td>\n",
       "      <td>Jaiswal, N., Singh, V.P., Kumari, D. and Pande...</td>\n",
       "    </tr>\n",
       "  </tbody>\n",
       "</table>\n",
       "</div>"
      ],
      "text/plain": [
       "                            Perovskite  bandgap(eV) glass   ETL ETL-2  \\\n",
       "0  Cs0.05MA0.1615FA0.7885PbI2.49Br0.51          1.6   FTO  TiO2   NaN   \n",
       "\n",
       "  ETL \\nthickness(um)     HTL  HTL \\nthickness(um) meta  \\\n",
       "0                0.04  CuSbS2                  0.1   Pt   \n",
       "\n",
       "  Perovskite \\ndeposition\\n procedure Perovskite\\n deposition\\n method  \\\n",
       "0                            two-step                             spin   \n",
       "\n",
       "  Anti-solvent \\ntreatment Precursor\\n solution  \\\n",
       "0                      CB     DMF, DMSO and NMP   \n",
       "\n",
       "   Annealing\\n temperature (°C)   Annealing\\n time (minutes)     Jsc   Voc  \\\n",
       "0                          100.0                         60.0  22.68  1.14   \n",
       "\n",
       "     FF    PCE                                            Article  \n",
       "0  0.76  19.61  Jaiswal, N., Singh, V.P., Kumari, D. and Pande...  "
      ]
     },
     "execution_count": 78,
     "metadata": {},
     "output_type": "execute_result"
    }
   ],
   "source": [
    "df.head(1)"
   ]
  },
  {
   "cell_type": "code",
   "execution_count": 79,
   "metadata": {},
   "outputs": [],
   "source": [
    "elements=[]\n",
    "def calculate_cs_total(input_string):\n",
    "    cs_pattern = re.compile(r'Cs([0-9.]*)')\n",
    "    cs_matches = cs_pattern.findall(str(input_string))\n",
    "    if not cs_matches:\n",
    "        elements.append(0)\n",
    "        return input_string\n",
    "    cs_total = sum(float(coefficient) if coefficient else 1.0 for coefficient in cs_matches)\n",
    "    elements.append(cs_total)\n",
    "    return input_string\n",
    "df[\"Perovskite\"]=df[\"Perovskite\"].apply(calculate_cs_total)\n",
    "df[\"Cs\"]=elements\n",
    "elements=[]\n",
    "def calculate_cs_total(input_string):\n",
    "    cs_pattern = re.compile(r'FA([0-9.]*)')\n",
    "    cs_matches = cs_pattern.findall(str(input_string))\n",
    "    if not cs_matches:\n",
    "        elements.append(0)\n",
    "        return input_string\n",
    "    cs_total = sum(float(coefficient) if coefficient else 1.0 for coefficient in cs_matches)\n",
    "    elements.append(cs_total)\n",
    "    return input_string\n",
    "df[\"Perovskite\"]=df[\"Perovskite\"].apply(calculate_cs_total)\n",
    "df[\"FA\"]=elements\n",
    "\n",
    "elements=[]\n",
    "def calculate_cs_total(input_string):\n",
    "    cs_pattern = re.compile(r'MA([0-9.]*)')\n",
    "    cs_matches = cs_pattern.findall(str(input_string))\n",
    "    if not cs_matches:\n",
    "        elements.append(0)\n",
    "        return input_string\n",
    "    cs_total = sum(float(coefficient) if coefficient else 1.0 for coefficient in cs_matches)\n",
    "    elements.append(cs_total)\n",
    "    return input_string\n",
    "df[\"Perovskite\"]=df[\"Perovskite\"].apply(calculate_cs_total)\n",
    "df[\"MA\"]=elements\n",
    "\n",
    "elements=[]\n",
    "def calculate_cs_total(input_string):\n",
    "    cs_pattern = re.compile(r'Pb([0-9.]*)')\n",
    "    cs_matches = cs_pattern.findall(str(input_string))\n",
    "    if not cs_matches:\n",
    "        elements.append(0)\n",
    "        return input_string\n",
    "    cs_total = sum(float(coefficient) if coefficient else 1.0 for coefficient in cs_matches)\n",
    "    elements.append(cs_total)\n",
    "    return input_string\n",
    "df[\"Perovskite\"]=df[\"Perovskite\"].apply(calculate_cs_total)\n",
    "df[\"Pb\"]=elements\n",
    "\n",
    "elements=[]\n",
    "def calculate_cs_total(input_string):\n",
    "    cs_pattern = re.compile(r'I([0-9.]*)')\n",
    "    cs_matches = cs_pattern.findall(str(input_string))\n",
    "    if not cs_matches:\n",
    "        elements.append(0)\n",
    "        return input_string\n",
    "    cs_total = sum(float(coefficient) if coefficient else 1.0 for coefficient in cs_matches)\n",
    "    elements.append(cs_total)\n",
    "    return input_string\n",
    "df[\"Perovskite\"]=df[\"Perovskite\"].apply(calculate_cs_total)\n",
    "df[\"I\"]=elements\n",
    "\n",
    "elements=[]\n",
    "def calculate_cs_total(input_string):\n",
    "    cs_pattern = re.compile(r'Br([0-9.]*)')\n",
    "    cs_matches = cs_pattern.findall(str(input_string))\n",
    "    if not cs_matches:\n",
    "        elements.append(0)\n",
    "        return input_string\n",
    "    cs_total = sum(float(coefficient) if coefficient else 1.0 for coefficient in cs_matches)\n",
    "    elements.append(cs_total)\n",
    "    return input_string\n",
    "df[\"Perovskite\"]=df[\"Perovskite\"].apply(calculate_cs_total)\n",
    "df[\"Br\"]=elements"
   ]
  },
  {
   "cell_type": "code",
   "execution_count": 80,
   "metadata": {},
   "outputs": [],
   "source": [
    "df.to_excel(\"./TCP_datasets.xlsx\",index=False)"
   ]
  },
  {
   "cell_type": "code",
   "execution_count": 82,
   "metadata": {},
   "outputs": [
    {
     "data": {
      "text/plain": [
       "(325, 26)"
      ]
     },
     "execution_count": 82,
     "metadata": {},
     "output_type": "execute_result"
    }
   ],
   "source": [
    "df=pd.read_excel(\"./TCP_datasets.xlsx\")\n",
    "df.shape"
   ]
  },
  {
   "cell_type": "code",
   "execution_count": 95,
   "metadata": {},
   "outputs": [
    {
     "ename": "PermissionError",
     "evalue": "[Errno 13] Permission denied: './TCP_datasets.xlsx'",
     "output_type": "error",
     "traceback": [
      "\u001b[1;31m---------------------------------------------------------------------------\u001b[0m",
      "\u001b[1;31mPermissionError\u001b[0m                           Traceback (most recent call last)",
      "Cell \u001b[1;32mIn[95], line 5\u001b[0m\n\u001b[0;32m      3\u001b[0m condition \u001b[38;5;241m=\u001b[39m \u001b[38;5;28mabs\u001b[39m((df[\u001b[38;5;124m'\u001b[39m\u001b[38;5;124mCs\u001b[39m\u001b[38;5;124m'\u001b[39m]\u001b[38;5;241m+\u001b[39mdf[\u001b[38;5;124m'\u001b[39m\u001b[38;5;124mFA\u001b[39m\u001b[38;5;124m'\u001b[39m]\u001b[38;5;241m+\u001b[39mdf[\u001b[38;5;124m'\u001b[39m\u001b[38;5;124mMA\u001b[39m\u001b[38;5;124m'\u001b[39m]\u001b[38;5;241m+\u001b[39m\u001b[38;5;241m2\u001b[39m\u001b[38;5;241m*\u001b[39mdf[\u001b[38;5;124m'\u001b[39m\u001b[38;5;124mPb\u001b[39m\u001b[38;5;124m'\u001b[39m])\u001b[38;5;241m-\u001b[39m(df[\u001b[38;5;124m'\u001b[39m\u001b[38;5;124mI\u001b[39m\u001b[38;5;124m'\u001b[39m]\u001b[38;5;241m+\u001b[39mdf[\u001b[38;5;124m'\u001b[39m\u001b[38;5;124mBr\u001b[39m\u001b[38;5;124m'\u001b[39m]))\u001b[38;5;241m<\u001b[39m\u001b[38;5;241m0.2\u001b[39m\n\u001b[0;32m      4\u001b[0m df_filtered \u001b[38;5;241m=\u001b[39m df[condition]\n\u001b[1;32m----> 5\u001b[0m df_filtered\u001b[38;5;241m.\u001b[39mto_excel(\u001b[38;5;124m'\u001b[39m\u001b[38;5;124m./TCP_datasets.xlsx\u001b[39m\u001b[38;5;124m'\u001b[39m, index\u001b[38;5;241m=\u001b[39m\u001b[38;5;28;01mFalse\u001b[39;00m)\n",
      "File \u001b[1;32md:\\APP\\anaconda\\Lib\\site-packages\\pandas\\util\\_decorators.py:211\u001b[0m, in \u001b[0;36mdeprecate_kwarg.<locals>._deprecate_kwarg.<locals>.wrapper\u001b[1;34m(*args, **kwargs)\u001b[0m\n\u001b[0;32m    209\u001b[0m     \u001b[38;5;28;01melse\u001b[39;00m:\n\u001b[0;32m    210\u001b[0m         kwargs[new_arg_name] \u001b[38;5;241m=\u001b[39m new_arg_value\n\u001b[1;32m--> 211\u001b[0m \u001b[38;5;28;01mreturn\u001b[39;00m func(\u001b[38;5;241m*\u001b[39margs, \u001b[38;5;241m*\u001b[39m\u001b[38;5;241m*\u001b[39mkwargs)\n",
      "File \u001b[1;32md:\\APP\\anaconda\\Lib\\site-packages\\pandas\\util\\_decorators.py:211\u001b[0m, in \u001b[0;36mdeprecate_kwarg.<locals>._deprecate_kwarg.<locals>.wrapper\u001b[1;34m(*args, **kwargs)\u001b[0m\n\u001b[0;32m    209\u001b[0m     \u001b[38;5;28;01melse\u001b[39;00m:\n\u001b[0;32m    210\u001b[0m         kwargs[new_arg_name] \u001b[38;5;241m=\u001b[39m new_arg_value\n\u001b[1;32m--> 211\u001b[0m \u001b[38;5;28;01mreturn\u001b[39;00m func(\u001b[38;5;241m*\u001b[39margs, \u001b[38;5;241m*\u001b[39m\u001b[38;5;241m*\u001b[39mkwargs)\n",
      "File \u001b[1;32md:\\APP\\anaconda\\Lib\\site-packages\\pandas\\core\\generic.py:2374\u001b[0m, in \u001b[0;36mNDFrame.to_excel\u001b[1;34m(self, excel_writer, sheet_name, na_rep, float_format, columns, header, index, index_label, startrow, startcol, engine, merge_cells, encoding, inf_rep, verbose, freeze_panes, storage_options)\u001b[0m\n\u001b[0;32m   2361\u001b[0m \u001b[38;5;28;01mfrom\u001b[39;00m \u001b[38;5;21;01mpandas\u001b[39;00m\u001b[38;5;21;01m.\u001b[39;00m\u001b[38;5;21;01mio\u001b[39;00m\u001b[38;5;21;01m.\u001b[39;00m\u001b[38;5;21;01mformats\u001b[39;00m\u001b[38;5;21;01m.\u001b[39;00m\u001b[38;5;21;01mexcel\u001b[39;00m \u001b[38;5;28;01mimport\u001b[39;00m ExcelFormatter\n\u001b[0;32m   2363\u001b[0m formatter \u001b[38;5;241m=\u001b[39m ExcelFormatter(\n\u001b[0;32m   2364\u001b[0m     df,\n\u001b[0;32m   2365\u001b[0m     na_rep\u001b[38;5;241m=\u001b[39mna_rep,\n\u001b[1;32m   (...)\u001b[0m\n\u001b[0;32m   2372\u001b[0m     inf_rep\u001b[38;5;241m=\u001b[39minf_rep,\n\u001b[0;32m   2373\u001b[0m )\n\u001b[1;32m-> 2374\u001b[0m formatter\u001b[38;5;241m.\u001b[39mwrite(\n\u001b[0;32m   2375\u001b[0m     excel_writer,\n\u001b[0;32m   2376\u001b[0m     sheet_name\u001b[38;5;241m=\u001b[39msheet_name,\n\u001b[0;32m   2377\u001b[0m     startrow\u001b[38;5;241m=\u001b[39mstartrow,\n\u001b[0;32m   2378\u001b[0m     startcol\u001b[38;5;241m=\u001b[39mstartcol,\n\u001b[0;32m   2379\u001b[0m     freeze_panes\u001b[38;5;241m=\u001b[39mfreeze_panes,\n\u001b[0;32m   2380\u001b[0m     engine\u001b[38;5;241m=\u001b[39mengine,\n\u001b[0;32m   2381\u001b[0m     storage_options\u001b[38;5;241m=\u001b[39mstorage_options,\n\u001b[0;32m   2382\u001b[0m )\n",
      "File \u001b[1;32md:\\APP\\anaconda\\Lib\\site-packages\\pandas\\io\\formats\\excel.py:944\u001b[0m, in \u001b[0;36mExcelFormatter.write\u001b[1;34m(self, writer, sheet_name, startrow, startcol, freeze_panes, engine, storage_options)\u001b[0m\n\u001b[0;32m    940\u001b[0m     need_save \u001b[38;5;241m=\u001b[39m \u001b[38;5;28;01mFalse\u001b[39;00m\n\u001b[0;32m    941\u001b[0m \u001b[38;5;28;01melse\u001b[39;00m:\n\u001b[0;32m    942\u001b[0m     \u001b[38;5;66;03m# error: Cannot instantiate abstract class 'ExcelWriter' with abstract\u001b[39;00m\n\u001b[0;32m    943\u001b[0m     \u001b[38;5;66;03m# attributes 'engine', 'save', 'supported_extensions' and 'write_cells'\u001b[39;00m\n\u001b[1;32m--> 944\u001b[0m     writer \u001b[38;5;241m=\u001b[39m ExcelWriter(  \u001b[38;5;66;03m# type: ignore[abstract]\u001b[39;00m\n\u001b[0;32m    945\u001b[0m         writer, engine\u001b[38;5;241m=\u001b[39mengine, storage_options\u001b[38;5;241m=\u001b[39mstorage_options\n\u001b[0;32m    946\u001b[0m     )\n\u001b[0;32m    947\u001b[0m     need_save \u001b[38;5;241m=\u001b[39m \u001b[38;5;28;01mTrue\u001b[39;00m\n\u001b[0;32m    949\u001b[0m \u001b[38;5;28;01mtry\u001b[39;00m:\n",
      "File \u001b[1;32md:\\APP\\anaconda\\Lib\\site-packages\\pandas\\io\\excel\\_openpyxl.py:60\u001b[0m, in \u001b[0;36mOpenpyxlWriter.__init__\u001b[1;34m(self, path, engine, date_format, datetime_format, mode, storage_options, if_sheet_exists, engine_kwargs, **kwargs)\u001b[0m\n\u001b[0;32m     56\u001b[0m \u001b[38;5;28;01mfrom\u001b[39;00m \u001b[38;5;21;01mopenpyxl\u001b[39;00m\u001b[38;5;21;01m.\u001b[39;00m\u001b[38;5;21;01mworkbook\u001b[39;00m \u001b[38;5;28;01mimport\u001b[39;00m Workbook\n\u001b[0;32m     58\u001b[0m engine_kwargs \u001b[38;5;241m=\u001b[39m combine_kwargs(engine_kwargs, kwargs)\n\u001b[1;32m---> 60\u001b[0m \u001b[38;5;28msuper\u001b[39m()\u001b[38;5;241m.\u001b[39m\u001b[38;5;21m__init__\u001b[39m(\n\u001b[0;32m     61\u001b[0m     path,\n\u001b[0;32m     62\u001b[0m     mode\u001b[38;5;241m=\u001b[39mmode,\n\u001b[0;32m     63\u001b[0m     storage_options\u001b[38;5;241m=\u001b[39mstorage_options,\n\u001b[0;32m     64\u001b[0m     if_sheet_exists\u001b[38;5;241m=\u001b[39mif_sheet_exists,\n\u001b[0;32m     65\u001b[0m     engine_kwargs\u001b[38;5;241m=\u001b[39mengine_kwargs,\n\u001b[0;32m     66\u001b[0m )\n\u001b[0;32m     68\u001b[0m \u001b[38;5;66;03m# ExcelWriter replaced \"a\" by \"r+\" to allow us to first read the excel file from\u001b[39;00m\n\u001b[0;32m     69\u001b[0m \u001b[38;5;66;03m# the file and later write to it\u001b[39;00m\n\u001b[0;32m     70\u001b[0m \u001b[38;5;28;01mif\u001b[39;00m \u001b[38;5;124m\"\u001b[39m\u001b[38;5;124mr+\u001b[39m\u001b[38;5;124m\"\u001b[39m \u001b[38;5;129;01min\u001b[39;00m \u001b[38;5;28mself\u001b[39m\u001b[38;5;241m.\u001b[39m_mode:  \u001b[38;5;66;03m# Load from existing workbook\u001b[39;00m\n",
      "File \u001b[1;32md:\\APP\\anaconda\\Lib\\site-packages\\pandas\\io\\excel\\_base.py:1313\u001b[0m, in \u001b[0;36mExcelWriter.__init__\u001b[1;34m(self, path, engine, date_format, datetime_format, mode, storage_options, if_sheet_exists, engine_kwargs, **kwargs)\u001b[0m\n\u001b[0;32m   1309\u001b[0m \u001b[38;5;28mself\u001b[39m\u001b[38;5;241m.\u001b[39m_handles \u001b[38;5;241m=\u001b[39m IOHandles(\n\u001b[0;32m   1310\u001b[0m     cast(IO[\u001b[38;5;28mbytes\u001b[39m], path), compression\u001b[38;5;241m=\u001b[39m{\u001b[38;5;124m\"\u001b[39m\u001b[38;5;124mcompression\u001b[39m\u001b[38;5;124m\"\u001b[39m: \u001b[38;5;28;01mNone\u001b[39;00m}\n\u001b[0;32m   1311\u001b[0m )\n\u001b[0;32m   1312\u001b[0m \u001b[38;5;28;01mif\u001b[39;00m \u001b[38;5;129;01mnot\u001b[39;00m \u001b[38;5;28misinstance\u001b[39m(path, ExcelWriter):\n\u001b[1;32m-> 1313\u001b[0m     \u001b[38;5;28mself\u001b[39m\u001b[38;5;241m.\u001b[39m_handles \u001b[38;5;241m=\u001b[39m get_handle(\n\u001b[0;32m   1314\u001b[0m         path, mode, storage_options\u001b[38;5;241m=\u001b[39mstorage_options, is_text\u001b[38;5;241m=\u001b[39m\u001b[38;5;28;01mFalse\u001b[39;00m\n\u001b[0;32m   1315\u001b[0m     )\n\u001b[0;32m   1316\u001b[0m \u001b[38;5;28mself\u001b[39m\u001b[38;5;241m.\u001b[39m_cur_sheet \u001b[38;5;241m=\u001b[39m \u001b[38;5;28;01mNone\u001b[39;00m\n\u001b[0;32m   1318\u001b[0m \u001b[38;5;28;01mif\u001b[39;00m date_format \u001b[38;5;129;01mis\u001b[39;00m \u001b[38;5;28;01mNone\u001b[39;00m:\n",
      "File \u001b[1;32md:\\APP\\anaconda\\Lib\\site-packages\\pandas\\io\\common.py:865\u001b[0m, in \u001b[0;36mget_handle\u001b[1;34m(path_or_buf, mode, encoding, compression, memory_map, is_text, errors, storage_options)\u001b[0m\n\u001b[0;32m    856\u001b[0m         handle \u001b[38;5;241m=\u001b[39m \u001b[38;5;28mopen\u001b[39m(\n\u001b[0;32m    857\u001b[0m             handle,\n\u001b[0;32m    858\u001b[0m             ioargs\u001b[38;5;241m.\u001b[39mmode,\n\u001b[1;32m   (...)\u001b[0m\n\u001b[0;32m    861\u001b[0m             newline\u001b[38;5;241m=\u001b[39m\u001b[38;5;124m\"\u001b[39m\u001b[38;5;124m\"\u001b[39m,\n\u001b[0;32m    862\u001b[0m         )\n\u001b[0;32m    863\u001b[0m     \u001b[38;5;28;01melse\u001b[39;00m:\n\u001b[0;32m    864\u001b[0m         \u001b[38;5;66;03m# Binary mode\u001b[39;00m\n\u001b[1;32m--> 865\u001b[0m         handle \u001b[38;5;241m=\u001b[39m \u001b[38;5;28mopen\u001b[39m(handle, ioargs\u001b[38;5;241m.\u001b[39mmode)\n\u001b[0;32m    866\u001b[0m     handles\u001b[38;5;241m.\u001b[39mappend(handle)\n\u001b[0;32m    868\u001b[0m \u001b[38;5;66;03m# Convert BytesIO or file objects passed with an encoding\u001b[39;00m\n",
      "\u001b[1;31mPermissionError\u001b[0m: [Errno 13] Permission denied: './TCP_datasets.xlsx'"
     ]
    }
   ],
   "source": [
    "#接下来是去除不恰当的数据，也就是不能够配平化合式的数据\n",
    "\n",
    "condition = abs((df['Cs']+df['FA']+df['MA']+2*df['Pb'])-(df['I']+df['Br']))<0.2\n",
    "df_filtered = df[condition]\n",
    "df_filtered.to_excel('./TCP_datasets.xlsx', index=False)\n"
   ]
  },
  {
   "cell_type": "code",
   "execution_count": 93,
   "metadata": {},
   "outputs": [],
   "source": [
    "df=df.drop('FA/MA',axis=1)\n",
    "df=df.drop('I/Br',axis=1)"
   ]
  },
  {
   "cell_type": "code",
   "execution_count": 4,
   "metadata": {},
   "outputs": [
    {
     "data": {
      "text/plain": [
       "Index(['Cs', 'FA', 'MA', 'Pb', 'I', 'Br', 'structure', 'bandgap', 'substrate',\n",
       "       'ETL-1', 'ETL-2', 'HTL', 'electrode', 'depositionProcedure',\n",
       "       'depositionMethod', 'Anti-solvent', 'PrecursorSolvent',\n",
       "       'AnnealingTemperature', 'AnnealingTime', 'Jsc', 'Voc', 'FF', 'PCE',\n",
       "       'Article', 'Unnamed: 24'],\n",
       "      dtype='object')"
      ]
     },
     "execution_count": 4,
     "metadata": {},
     "output_type": "execute_result"
    }
   ],
   "source": [
    "df=pd.read_excel(\"datasets/TCP_datasets.xlsx\")\n",
    "df.columns"
   ]
  },
  {
   "cell_type": "code",
   "execution_count": 5,
   "metadata": {},
   "outputs": [
    {
     "data": {
      "text/plain": [
       "array([nan, 'EA', 'CB', 'isopropanol ', 'diethyl ether', 'GP', 'ANI ',\n",
       "       'HEA', 'ANI', 'toluene', 'EA/HEX', 'tBuOH/EA', 'TL', 'T', 'EA/Hex',\n",
       "       'BBr', 'BCl'], dtype=object)"
      ]
     },
     "execution_count": 5,
     "metadata": {},
     "output_type": "execute_result"
    }
   ],
   "source": [
    "df['Anti-solvent'].unique()"
   ]
  },
  {
   "cell_type": "code",
   "execution_count": 8,
   "metadata": {},
   "outputs": [],
   "source": [
    "df['Anti-solvent'] = df['Anti-solvent'].str.replace('T ', 'toluene')\n",
    "# df['Anti-solvent'] = df['Anti-solvent'].str.replace('EA/Hex ', 'EA/HEX')\n",
    "df.to_excel(\"datasets/TCP_datasets.xlsx\",index=False)"
   ]
  },
  {
   "cell_type": "code",
   "execution_count": 9,
   "metadata": {},
   "outputs": [
    {
     "data": {
      "text/plain": [
       "array(['spin', 'Vacuum Deposited', 'R2R', 'coat', 'Inkjet-Printed',\n",
       "       'CAGQ', 'VTA', 'VAC'], dtype=object)"
      ]
     },
     "execution_count": 9,
     "metadata": {},
     "output_type": "execute_result"
    }
   ],
   "source": [
    "df['depositionMethod'].unique()"
   ]
  },
  {
   "cell_type": "code",
   "execution_count": 2,
   "metadata": {},
   "outputs": [],
   "source": [
    "import pandas as pd\n"
   ]
  },
  {
   "cell_type": "code",
   "execution_count": 3,
   "metadata": {},
   "outputs": [],
   "source": [
    "dftcp=pd.read_excel(\"datasets/TCP_data.xlsx\")\n",
    "dftemp=pd.read_excel(\"datasets/temp.xlsx\")"
   ]
  },
  {
   "cell_type": "code",
   "execution_count": 4,
   "metadata": {},
   "outputs": [
    {
     "name": "stdout",
     "output_type": "stream",
     "text": [
      "(538, 21)\n"
     ]
    },
    {
     "data": {
      "text/plain": [
       "(538, 21)"
      ]
     },
     "execution_count": 4,
     "metadata": {},
     "output_type": "execute_result"
    }
   ],
   "source": [
    "print(dftcp.shape)\n",
    "dftemp.shape"
   ]
  },
  {
   "cell_type": "code",
   "execution_count": 7,
   "metadata": {},
   "outputs": [],
   "source": [
    "dftcp=dftcp.drop(\"Pb\",axis=1)\n",
    "dftemp=dftemp.drop(\"Pb\",axis=1)"
   ]
  },
  {
   "cell_type": "code",
   "execution_count": 8,
   "metadata": {},
   "outputs": [
    {
     "data": {
      "text/plain": [
       "Index(['Cs', 'FA', 'I', 'structure', 'bandgap', 'substrate', 'ETL-1', 'ETL-2',\n",
       "       'HTL', 'electrode', 'depositionProcedure', 'depositionMethod',\n",
       "       'Anti-solvent', 'PrecursorSolvent', 'AnnealingTemperature',\n",
       "       'AnnealingTime', 'Jsc', 'Voc', 'FF', 'PCE'],\n",
       "      dtype='object')"
      ]
     },
     "execution_count": 8,
     "metadata": {},
     "output_type": "execute_result"
    }
   ],
   "source": [
    "dftcp.columns"
   ]
  },
  {
   "cell_type": "code",
   "execution_count": 12,
   "metadata": {},
   "outputs": [],
   "source": [
    "dftemp['AnnealingTemperature']=dftemp['AnnealingTemperature'].replace('unused',0)\n",
    "dftcp['AnnealingTemperature']=dftcp['AnnealingTemperature'].replace('unused',0)"
   ]
  },
  {
   "cell_type": "code",
   "execution_count": 13,
   "metadata": {},
   "outputs": [],
   "source": [
    "dftemp['AnnealingTemperature']=dftemp['AnnealingTemperature'].astype(\"float64\")\n",
    "dftcp['AnnealingTemperature']=dftcp['AnnealingTemperature'].astype(\"float64\")"
   ]
  },
  {
   "cell_type": "code",
   "execution_count": 14,
   "metadata": {},
   "outputs": [],
   "source": [
    "dftemp['AnnealingTime']=dftemp['AnnealingTime'].replace('unused',0)\n",
    "dftcp['AnnealingTime']=dftcp['AnnealingTime'].replace('unused',0)\n",
    "dftemp['AnnealingTime']=dftemp['AnnealingTime'].astype(\"float64\")\n",
    "dftcp['AnnealingTime']=dftcp['AnnealingTime'].astype(\"float64\")"
   ]
  },
  {
   "cell_type": "code",
   "execution_count": 15,
   "metadata": {},
   "outputs": [
    {
     "data": {
      "text/plain": [
       "Index(['Cs', 'FA', 'I', 'structure', 'bandgap', 'substrate', 'ETL-1', 'ETL-2',\n",
       "       'HTL', 'electrode', 'depositionProcedure', 'depositionMethod',\n",
       "       'Anti-solvent', 'PrecursorSolvent', 'AnnealingTemperature',\n",
       "       'AnnealingTime', 'Jsc', 'Voc', 'FF', 'PCE'],\n",
       "      dtype='object')"
      ]
     },
     "execution_count": 15,
     "metadata": {},
     "output_type": "execute_result"
    }
   ],
   "source": [
    "dftcp.columns"
   ]
  },
  {
   "cell_type": "code",
   "execution_count": 18,
   "metadata": {},
   "outputs": [
    {
     "data": {
      "text/plain": [
       "array(['PCBM', 'SnO2', 'Li-TiO2', 'c-TiO2', 'ZnO', 'BCP', 'C', 'TiO2',\n",
       "       'bl-TiO2', 'ZnO2', 'ALD-SnO2', 'ALD-TiO2', 'PlanarTiO2', 'mpTiO2',\n",
       "       'CMC'], dtype=object)"
      ]
     },
     "execution_count": 18,
     "metadata": {},
     "output_type": "execute_result"
    }
   ],
   "source": [
    "dftcp['ETL-1'].unique()"
   ]
  },
  {
   "cell_type": "code",
   "execution_count": 17,
   "metadata": {},
   "outputs": [],
   "source": [
    "dftcp['ETL-1']=dftcp['ETL-1'].replace('SnO3','SnO2')\n",
    "dftcp['ETL-1']=dftcp['ETL-1'].replace('SnO4','SnO2')\n",
    "dftcp['ETL-1']=dftcp['ETL-1'].replace('SnO5','SnO2')\n",
    "dftcp['ETL-1']=dftcp['ETL-1'].replace('SnO6','SnO2')\n",
    "dftemp['ETL-1']=dftemp['ETL-1'].replace('SnO3','SnO2')\n",
    "dftemp['ETL-1']=dftemp['ETL-1'].replace('SnO4','SnO2')\n",
    "dftemp['ETL-1']=dftemp['ETL-1'].replace('SnO5','SnO2')\n",
    "dftemp['ETL-1']=dftemp['ETL-1'].replace('SnO6','SnO2')"
   ]
  },
  {
   "cell_type": "code",
   "execution_count": 19,
   "metadata": {},
   "outputs": [
    {
     "data": {
      "text/plain": [
       "array(['BCP', 'C', nan, 'SnO2', 'mp-TiO2', 'ZnO', 'PCBM', 'mp-TiO2/SnO2',\n",
       "       'TiO2/BCP', 'Al2O3', 'Y-TiO2'], dtype=object)"
      ]
     },
     "execution_count": 19,
     "metadata": {},
     "output_type": "execute_result"
    }
   ],
   "source": [
    "dftcp['ETL-2'].unique()"
   ]
  },
  {
   "cell_type": "code",
   "execution_count": 20,
   "metadata": {},
   "outputs": [],
   "source": [
    "dftcp['ETL-2']=dftcp['ETL-2'].replace(\"TiO2/BCP\",'BCP')\n",
    "dftemp['ETL-2']=dftemp['ETL-2'].replace(\"TiO2/BCP\",'BCP')"
   ]
  },
  {
   "cell_type": "code",
   "execution_count": 22,
   "metadata": {},
   "outputs": [
    {
     "data": {
      "text/plain": [
       "array(['ployTPD:F4-TCNQ', 'spiro', 'PEDOT:PSS', 'P3HT', 'PTAA', '2PACz',\n",
       "       'MeO-4PACz', 'NiOx', 'TBTA[6]H/TBPHTFSI', 'spiro/Gual',\n",
       "       'NiOx/PTAA', 'TPFPB/spiro', 'TaTm', 'CuSCN', 'CuSbS2',\n",
       "       'D4TBP/spiro', 'NiO', 'ClS', 'spiro/tBP/LiTFSI/FK209', 'TPB',\n",
       "       'RCP–BTT/dopant', 'spiro/tBP/LiTFSI', 'spiro/F4-TCNQ', 'SnS',\n",
       "       'PeRyLene/P3HT/MoO3', 'PTB7/dopant', 'P3HT/MoO3', nan, 'RCP–BTT',\n",
       "       'PTB7', 'SAMs'], dtype=object)"
      ]
     },
     "execution_count": 22,
     "metadata": {},
     "output_type": "execute_result"
    }
   ],
   "source": [
    "dftcp['HTL'].unique()"
   ]
  },
  {
   "cell_type": "code",
   "execution_count": 23,
   "metadata": {},
   "outputs": [],
   "source": [
    "dftcp['HTL']=dftcp['HTL'].replace(\"NiO\",'NiOx')\n",
    "dftemp['HTL']=dftemp['HTL'].replace(\"NiO\",'NiOx')\n",
    "dftcp['HTL']=dftcp['HTL'].replace(\"2PACz\",'SAMs')\n",
    "dftemp['HTL']=dftemp['HTL'].replace(\"2PACz\",'SAMs')\n",
    "dftcp['HTL']=dftcp['HTL'].replace(\"MeO-4PACz\",'SAMs')\n",
    "dftemp['HTL']=dftemp['HTL'].replace(\"MeO-4PACz\",'SAMs')"
   ]
  },
  {
   "cell_type": "code",
   "execution_count": 25,
   "metadata": {},
   "outputs": [
    {
     "data": {
      "text/plain": [
       "Index(['Cs', 'FA', 'I', 'structure', 'bandgap', 'substrate', 'ETL-1', 'ETL-2',\n",
       "       'HTL', 'electrode', 'depositionProcedure', 'depositionMethod',\n",
       "       'Anti-solvent', 'PrecursorSolvent', 'AnnealingTemperature',\n",
       "       'AnnealingTime', 'Jsc', 'Voc', 'FF', 'PCE'],\n",
       "      dtype='object')"
      ]
     },
     "execution_count": 25,
     "metadata": {},
     "output_type": "execute_result"
    }
   ],
   "source": [
    "dftcp.columns"
   ]
  },
  {
   "cell_type": "code",
   "execution_count": 26,
   "metadata": {},
   "outputs": [
    {
     "data": {
      "text/plain": [
       "array(['Ag', 'Au', 'PEIE/Ag', 'Ca/Al', 'PEIE/Au', 'Cu', 'Al', nan, 'Pt',\n",
       "       'Ca/Ag', 'C', 'BCP'], dtype=object)"
      ]
     },
     "execution_count": 26,
     "metadata": {},
     "output_type": "execute_result"
    }
   ],
   "source": [
    "dftcp['electrode'].unique()"
   ]
  },
  {
   "cell_type": "code",
   "execution_count": 27,
   "metadata": {},
   "outputs": [],
   "source": [
    "dftcp['electrode']=dftcp['electrode'].replace(\"PEIE/Ag\",'Ag')\n",
    "dftemp['electrode']=dftemp['electrode'].replace(\"PEIE/Ag\",'Ag')\n",
    "dftcp['electrode']=dftcp['electrode'].replace(\"PEIE/Au\",'Au')\n",
    "dftemp['electrode']=dftemp['electrode'].replace(\"PEIE/Au\",'Au')\n",
    "dftcp['electrode']=dftcp['electrode'].replace(\"Ca/Al\",'Al')\n",
    "dftemp['electrode']=dftemp['electrode'].replace(\"Ca/Al\",'Al')\n",
    "dftcp['electrode']=dftcp['electrode'].replace(\"Ca/Ag\",'Ag')\n",
    "dftemp['electrode']=dftemp['electrode'].replace(\"Ca/Ag\",'Ag')"
   ]
  },
  {
   "cell_type": "code",
   "execution_count": 28,
   "metadata": {},
   "outputs": [
    {
     "data": {
      "text/plain": [
       "array(['three-step', 'one-step', 'two-step'], dtype=object)"
      ]
     },
     "execution_count": 28,
     "metadata": {},
     "output_type": "execute_result"
    }
   ],
   "source": [
    "dftcp['depositionProcedure'].unique()"
   ]
  },
  {
   "cell_type": "code",
   "execution_count": 29,
   "metadata": {},
   "outputs": [
    {
     "data": {
      "text/plain": [
       "array(['CAGQ', 'coat', 'Inkjet-Printed', 'R2R', 'spin',\n",
       "       'Vacuum Deposited'], dtype=object)"
      ]
     },
     "execution_count": 29,
     "metadata": {},
     "output_type": "execute_result"
    }
   ],
   "source": [
    "dftcp['depositionMethod'].unique()"
   ]
  },
  {
   "cell_type": "code",
   "execution_count": 30,
   "metadata": {},
   "outputs": [
    {
     "data": {
      "text/plain": [
       "array(['DMF/DMSO', 'DMF', 'DMSO/2BE', nan, 'DMF/DMSO/DmmimCl',\n",
       "       'DMF/DMSO/GBL', 'DMF/DMSO/APL', 'DMF/DMSO/1.5APL',\n",
       "       'DMF/DMSO/0.5APL', 'DMF/DMSO/EAI', 'DMF:DMSO:NMP', 'DMF/DMSO/TPL',\n",
       "       'DMF/NMP', 'DMF/DMSO/NaF', 'DMF/DMSO/KSCN', 'DMF/DMSO/Pb(SCN)2',\n",
       "       'DMF/DMSO/MF', 'DMF/DMSO/Ga(AcAc)3',\n",
       "       'DMF/DMSO/4F-PEAI/Pb(SCN)2/Ga(AcAc)3', 'DMF/DMSO/3APL',\n",
       "       'DMF/DMSO/IAI', 'DMF/DMSO/MASCN', 'DMF/DMSO/4F-PEAI/Pb(SCN)2',\n",
       "       'DMF/DMSO/MACl', 'DMF/DMSO/RbI', 'DMSO', 'DCB', 'DMF/DMSO/KI',\n",
       "       'DMF/DMSO/IPA', 'DMF/DMSO/Pr', 'DMF/DMSO/4F-PEAI',\n",
       "       'DMF/DMSO/BMIM:BF4/4F-PEAI/Pb(SCN)2', 'DMF/DMSO/GuaI',\n",
       "       'DMF/DMSO/BMIM:BF4', 'DMF/DMSO/EMIMCL', 'DMF/DMSO/BMIM:PF6',\n",
       "       'GBL/DMF', 'DMF/DMSO/PA/4F-PEAI/Pb(SCN)2',\n",
       "       'DMF/DMSO/BMIM:BF4/Ga(AcAc)3', 'DMF/DMSO/MWCNT-g-PDDT',\n",
       "       'DMF/DMSO/EAI/IAI', 'DMF/DMSO/Y6', 'GBL/DMSO', 'DMF/DMSO/CsI',\n",
       "       'DMF/DMSO/EAI/GuaI', 'DMF/DMSO/PA'], dtype=object)"
      ]
     },
     "execution_count": 30,
     "metadata": {},
     "output_type": "execute_result"
    }
   ],
   "source": [
    "dftcp['PrecursorSolvent'].unique()"
   ]
  },
  {
   "cell_type": "code",
   "execution_count": 31,
   "metadata": {},
   "outputs": [
    {
     "data": {
      "text/plain": [
       "array([nan, 'CB', 'BBr', 'BCl', 'tBuOH/EA', 'EA', 'isopropanol',\n",
       "       'diethyl ether', 'GP', 'ANI', 'HEA', 'toluene', 'EA/HEX', 'CF'],\n",
       "      dtype=object)"
      ]
     },
     "execution_count": 31,
     "metadata": {},
     "output_type": "execute_result"
    }
   ],
   "source": [
    "dftcp['Anti-solvent'].unique()"
   ]
  },
  {
   "cell_type": "code",
   "execution_count": 32,
   "metadata": {},
   "outputs": [],
   "source": [
    "dftcp.to_excel(\"tcpUnData.xlsx\",index=False)\n"
   ]
  },
  {
   "cell_type": "code",
   "execution_count": 33,
   "metadata": {},
   "outputs": [],
   "source": [
    "dffill=pd.read_excel(\"tcpUnData.xlsx\")"
   ]
  },
  {
   "cell_type": "code",
   "execution_count": 34,
   "metadata": {},
   "outputs": [],
   "source": [
    "dffill['AnnealingTemperature']=dffill['AnnealingTemperature'].fillna(0)\n",
    "dffill['AnnealingTime']=dffill['AnnealingTime'].fillna(0)\n",
    "dffill=dffill.fillna(\"unused\")"
   ]
  },
  {
   "cell_type": "code",
   "execution_count": 35,
   "metadata": {},
   "outputs": [],
   "source": [
    "dffill.to_excel(\"tcpFillData.xlsx\",index=False)"
   ]
  },
  {
   "cell_type": "code",
   "execution_count": 1,
   "metadata": {},
   "outputs": [
    {
     "data": {
      "text/plain": [
       "(184320, 16)"
      ]
     },
     "execution_count": 1,
     "metadata": {},
     "output_type": "execute_result"
    }
   ],
   "source": [
    "import pandas as pd\n",
    "df=pd.read_excel(\"perovskite_combinations.xlsx\")\n",
    "df.shape"
   ]
  },
  {
   "cell_type": "code",
   "execution_count": 2,
   "metadata": {},
   "outputs": [
    {
     "data": {
      "text/plain": [
       "(184320, 16)"
      ]
     },
     "execution_count": 2,
     "metadata": {},
     "output_type": "execute_result"
    }
   ],
   "source": [
    "\n",
    "\n",
    "# 删除 Cs 和 FA 值之和大于 1 的行\n",
    "df = df[df[\"Cs\"] + df[\"FA\"] <= 1]\n",
    "\n",
    "# 保存到新的 Excel 文件\n",
    "df.to_excel(\"perovskite_combinations.xlsx\", index=False)\n",
    "df.shape\n",
    "\n"
   ]
  },
  {
   "cell_type": "code",
   "execution_count": 16,
   "metadata": {},
   "outputs": [
    {
     "ename": "AttributeError",
     "evalue": "module 'matplotlib.pyplot' has no attribute 'Ellipse'",
     "output_type": "error",
     "traceback": [
      "\u001b[1;31m---------------------------------------------------------------------------\u001b[0m",
      "\u001b[1;31mAttributeError\u001b[0m                            Traceback (most recent call last)",
      "Cell \u001b[1;32mIn[16], line 21\u001b[0m\n\u001b[0;32m     18\u001b[0m plt\u001b[38;5;241m.\u001b[39mscatter(\u001b[38;5;241m*\u001b[39mgreen_point, s\u001b[38;5;241m=\u001b[39m\u001b[38;5;241m150\u001b[39m, marker\u001b[38;5;241m=\u001b[39m\u001b[38;5;124m'\u001b[39m\u001b[38;5;124ms\u001b[39m\u001b[38;5;124m'\u001b[39m, color\u001b[38;5;241m=\u001b[39m\u001b[38;5;124m'\u001b[39m\u001b[38;5;124mgreen\u001b[39m\u001b[38;5;124m'\u001b[39m)\n\u001b[0;32m     20\u001b[0m \u001b[38;5;66;03m# 绘制椭圆\u001b[39;00m\n\u001b[1;32m---> 21\u001b[0m ellipse \u001b[38;5;241m=\u001b[39m plt\u001b[38;5;241m.\u001b[39mEllipse((\u001b[38;5;241m2\u001b[39m, \u001b[38;5;241m2\u001b[39m), \u001b[38;5;241m1.5\u001b[39m, \u001b[38;5;241m1\u001b[39m, edgecolor\u001b[38;5;241m=\u001b[39m\u001b[38;5;124m'\u001b[39m\u001b[38;5;124mgray\u001b[39m\u001b[38;5;124m'\u001b[39m, facecolor\u001b[38;5;241m=\u001b[39m\u001b[38;5;124m'\u001b[39m\u001b[38;5;124mnone\u001b[39m\u001b[38;5;124m'\u001b[39m, linestyle\u001b[38;5;241m=\u001b[39m\u001b[38;5;124m'\u001b[39m\u001b[38;5;124m--\u001b[39m\u001b[38;5;124m'\u001b[39m)\n\u001b[0;32m     22\u001b[0m plt\u001b[38;5;241m.\u001b[39mgca()\u001b[38;5;241m.\u001b[39madd_patch(ellipse)\n\u001b[0;32m     24\u001b[0m \u001b[38;5;66;03m# 添加文本\u001b[39;00m\n",
      "\u001b[1;31mAttributeError\u001b[0m: module 'matplotlib.pyplot' has no attribute 'Ellipse'"
     ]
    },
    {
     "data": {
      "image/png": "[encoded data removed]",
      "text/plain": [
       "<Figure size 1000x700 with 1 Axes>"
      ]
     },
     "metadata": {},
     "output_type": "display_data"
    }
   ],
   "source": [
    "import matplotlib.pyplot as plt\n",
    "\n",
    "# 创建数据点\n",
    "orange_points = [(0.8, 4.5), (3.5, 2.8), (1.2, 1.8), (4.2, 3.5), (2.2, 0.5)]\n",
    "green_point = (1.8, 2.5)\n",
    "\n",
    "# 绘制坐标轴\n",
    "plt.figure(figsize=(10, 7))  # 设置图像大小\n",
    "plt.xlabel(\"x₁\")\n",
    "plt.ylabel(\"x₂\")\n",
    "plt.xlim(0, 5)\n",
    "plt.ylim(0, 5)\n",
    "plt.xticks([])  # 隐藏 x 轴刻度\n",
    "plt.yticks([])  # 隐藏 y 轴刻度\n",
    "\n",
    "# 绘制数据点\n",
    "plt.scatter(*zip(*orange_points), s=200, facecolors='none', edgecolors='orangered', linewidth=2)\n",
    "plt.scatter(*green_point, s=150, marker='s', color='green')\n",
    "\n",
    "# 绘制椭圆\n",
    "ellipse = plt.Ellipse((2, 2), 1.5, 1, edgecolor='gray', facecolor='none', linestyle='--')\n",
    "plt.gca().add_patch(ellipse)\n",
    "\n",
    "# 添加文本\n",
    "plt.text(2.2, 1, \"3 - Nearest Neighbours of the green data point\", fontsize=12)\n",
    "\n",
    "# 显示图像\n",
    "plt.show()\n"
   ]
  },
  {
   "cell_type": "code",
   "execution_count": 48,
   "metadata": {},
   "outputs": [
    {
     "data": {
      "image/png": "[encoded data removed]",
      "text/plain": [
       "<Figure size 640x480 with 1 Axes>"
      ]
     },
     "metadata": {},
     "output_type": "display_data"
    }
   ],
   "source": [
    "import matplotlib.pyplot as plt\n",
    "import numpy as np\n",
    "\n",
    "# 自定义数据点\n",
    "x1 = np.array([120, 150, 165, 220, 165, 159, 280, 160, 110, 105])\n",
    "x2 = np.array([150, 250, 200, 165, 165, 250, 160, 120, 160, 105])\n",
    "\n",
    "# 特定的数据点\n",
    "special_point = (190, 190)\n",
    "\n",
    "# 找到最近的三个邻居\n",
    "distances = np.sqrt((x1 - special_point[0])**2 + (x2 - special_point[1])**2)\n",
    "nearest_neighbors_indices = distances.argsort()[:3]\n",
    "\n",
    "# 创建散点图\n",
    "plt.scatter(x1, x2, color='orange', label='数据点',s=80)\n",
    "plt.scatter(*special_point, color='green', marker='^',label='特定数据点', s=100)\n",
    "\n",
    "# 标记最近的三个邻居\n",
    "for neighbor_index in nearest_neighbors_indices:\n",
    "    plt.scatter(x1[neighbor_index], x2[neighbor_index], color='blue', s=100, edgecolor='black')\n",
    "\n",
    "# 画出最近邻居的椭圆\n",
    "ellipse = plt.Circle(special_point, 50, color='red', fill=False)  # 调整椭圆大小\n",
    "plt.gca().add_patch(ellipse)\n",
    "\n",
    "\n",
    "# 设置坐标轴范围\n",
    "plt.xlim(100, 300)\n",
    "plt.ylim(100, 300)\n",
    "\n",
    "# 添加标签和标题\n",
    "plt.xlabel('X1', fontsize=15)\n",
    "plt.ylabel('X2', fontsize=15)\n",
    "plt.title('3 - Nearest Neighbours of the green data point', fontsize=15)\n",
    "\n",
    "# 显示图表\n",
    "plt.show()"
   ]
  },
  {
   "cell_type": "code",
   "execution_count": 29,
   "metadata": {},
   "outputs": [
    {
     "data": {
      "image/png": "[encoded data removed]",
      "text/plain": [
       "<Figure size 640x480 with 1 Axes>"
      ]
     },
     "metadata": {},
     "output_type": "display_data"
    }
   ],
   "source": [
    "import matplotlib.pyplot as plt\n",
    "import numpy as np\n",
    "\n",
    "# 假设的数据点\n",
    "x1 = np.random.rand(10)\n",
    "x2 = np.random.rand(10)\n",
    "\n",
    "# 特定的数据点\n",
    "special_point = (0.4, 0.3)\n",
    "\n",
    "# 找到最近的三个邻居\n",
    "distances = np.sqrt((x1 - special_point[0])**2 + (x2 - special_point[1])**2)\n",
    "nearest_neighbors_indices = distances.argsort()[:3]\n",
    "\n",
    "# 创建散点图\n",
    "plt.scatter(x1, x2, color='orange', label='数据点')\n",
    "plt.scatter(*special_point, color='green', marker='^',label='特定数据点', s=100)\n",
    "\n",
    "# 标记最近的三个邻居\n",
    "for neighbor_index in nearest_neighbors_indices:\n",
    "    plt.scatter(x1[neighbor_index], x2[neighbor_index], color='blue', s=100, edgecolor='black')\n",
    "\n",
    "# 画出最近邻居的椭圆\n",
    "ellipse = plt.Circle(special_point, 0.3, color='red', fill=False)\n",
    "plt.gca().add_patch(ellipse)\n",
    "\n",
    "# 添加图例和标签\n",
    "# plt.legend()\n",
    "plt.xlabel('X1',fontsize=15)\n",
    "plt.ylabel('X2',fontsize=15)\n",
    "plt.title('3 - Nearest Neighbours of the green data point',fontsize=15)\n",
    "\n",
    "# 显示图表\n",
    "plt.show()\n"
   ]
  },
  {
   "cell_type": "code",
   "execution_count": 2,
   "metadata": {},
   "outputs": [],
   "source": [
    "import pandas as pd\n",
    "\n",
    "df = pd.read_excel(\"datasets\\datasets.xlsx\")\n",
    "# 使用apply()函数和lambda函数来进行条件判断和合并\n",
    "df['ETL-1'] = df.apply(lambda row: f\"{row['ETL-1']}/{row['ETL-2']}\" if pd.notnull(row['ETL-2']) and row['ETL-2'] != '' else row['ETL-1'], axis=1)\n",
    "\n",
    "# 删除不再需要的ETL-2列\n",
    "df.drop('ETL-2', axis=1, inplace=True)\n",
    "\n",
    "# 改变列名 'ETL-1' 为 'ETL'\n",
    "df.rename(columns={'ETL-1': 'ETL'}, inplace=True)\n"
   ]
  },
  {
   "cell_type": "code",
   "execution_count": 5,
   "metadata": {},
   "outputs": [],
   "source": [
    "df.to_excel(\"TCP_dataset.xlsx\",index=False)"
   ]
  },
  {
   "cell_type": "code",
   "execution_count": 3,
   "metadata": {},
   "outputs": [],
   "source": [
    "import pandas as pd\n",
    "df=pd.read_excel(\"datasets\\TCP_dataset.xlsx\")"
   ]
  },
  {
   "cell_type": "code",
   "execution_count": 5,
   "metadata": {},
   "outputs": [
    {
     "data": {
      "text/plain": [
       "array(['ALD-SnO2', 'ALD-TiO2', 'ALD-TiO2/mp-TiO2', 'BCP/C',\n",
       "       'bl-TiO2/mp-TiO2', 'C', 'CMC/BCP', 'c-TiO2', 'c-TiO2/mp-TiO2',\n",
       "       'c-TiO2/mp-TiO2/SnO2', 'c-TiO2/SnO2', 'Li-TiO2', 'mpTiO2', 'PCBM',\n",
       "       'PCBM/BCP', 'PCBM/C', 'PCBM/C/BCP', 'PCBM/C/SnOx', 'PCBM/ZnO',\n",
       "       'PlanarTiO2', 'SnO2', 'SnO2/Al2O3', 'SnO2/C', 'SnO2/PCBM', 'TiO2',\n",
       "       'TiO2/Al2O3', 'TiO2/Y-TiO2', 'ZnO', 'ZnO2'], dtype=object)"
      ]
     },
     "execution_count": 5,
     "metadata": {},
     "output_type": "execute_result"
    }
   ],
   "source": [
    "df['ETL'].unique()"
   ]
  },
  {
   "cell_type": "code",
   "execution_count": 6,
   "metadata": {},
   "outputs": [],
   "source": [
    "df['one_etl']=0"
   ]
  },
  {
   "cell_type": "code",
   "execution_count": 7,
   "metadata": {},
   "outputs": [
    {
     "data": {
      "text/plain": [
       "Index(['Cs', 'FA', 'MA', 'Pb', 'I', 'Br', 'structure', 'bandgap', 'substrate',\n",
       "       'ETL', 'HTL', 'electrode', 'depositionProcedure', 'depositionMethod',\n",
       "       'Anti-solvent', 'PrecursorSolvent', 'AnnealingTemperature',\n",
       "       'AnnealingTime', 'Jsc', 'Voc', 'FF', 'PCE', 'Article', 'Unnamed: 24',\n",
       "       'one_etl'],\n",
       "      dtype='object')"
      ]
     },
     "execution_count": 7,
     "metadata": {},
     "output_type": "execute_result"
    }
   ],
   "source": [
    "4.76\n",
    "3.81\n",
    "4.075\n",
    "4.562\n",
    "4.659\n",
    "4.656\n",
    "4.0875"
   ]
  },
  {
   "cell_type": "code",
   "execution_count": 8,
   "metadata": {},
   "outputs": [
    {
     "data": {
      "text/plain": [
       "Index(['Cs', 'FA', 'MA', 'I', 'Br', 'bandgap'], dtype='object')"
      ]
     },
     "execution_count": 8,
     "metadata": {},
     "output_type": "execute_result"
    }
   ],
   "source": [
    "data=pd.read_excel(\"datasets/bandgap_datasets.xlsx\")\n",
    "data.columns"
   ]
  },
  {
   "cell_type": "code",
   "execution_count": 9,
   "metadata": {},
   "outputs": [
    {
     "name": "stdout",
     "output_type": "stream",
     "text": [
      "I列的和为: 2048.995\n",
      "I列的平方和为: 5295.456735000001\n",
      "BG列的和为: 1445.6435000000001\n",
      "BG列的平方和为: 2447.2713352500004\n",
      "I和BG列对应相乘的和为: 3342.5273159999997\n"
     ]
    }
   ],
   "source": [
    "i_sum = data['I'].sum()\n",
    "\n",
    "# 计算I列的数据的平方和\n",
    "i_sum_of_squares = (data['I']**2).sum()\n",
    "\n",
    "# 计算BG列的数据和\n",
    "bg_sum = data['bandgap'].sum()\n",
    "\n",
    "# 计算BG列的数据的平方和\n",
    "bg_sum_of_squares = (data['bandgap']**2).sum()\n",
    "\n",
    "# 计算I和BG列数据对应相乘的和\n",
    "product_sum = (data['I'] * data['bandgap']).sum()\n",
    "\n",
    "# 输出结果\n",
    "print(f\"I列的和为: {i_sum}\")\n",
    "print(f\"I列的平方和为: {i_sum_of_squares}\")\n",
    "print(f\"BG列的和为: {bg_sum}\")\n",
    "print(f\"BG列的平方和为: {bg_sum_of_squares}\")\n",
    "print(f\"I和BG列对应相乘的和为: {product_sum}\")"
   ]
  },
  {
   "cell_type": "code",
   "execution_count": 53,
   "metadata": {},
   "outputs": [
    {
     "data": {
      "text/plain": [
       "(595, 24)"
      ]
     },
     "execution_count": 53,
     "metadata": {},
     "output_type": "execute_result"
    }
   ],
   "source": [
    "import pandas as pd\n",
    "df=pd.read_excel(\"datasets/TCP_dataset.xlsx\")\n",
    "df.shape"
   ]
  },
  {
   "cell_type": "code",
   "execution_count": 54,
   "metadata": {},
   "outputs": [
    {
     "data": {
      "text/plain": [
       "Index(['Cs', 'FA', 'MA', 'Pb', 'I', 'Br', 'structure', 'bandgap', 'substrate',\n",
       "       'ETL', 'HTL', 'electrode', 'depositionProcedure', 'depositionMethod',\n",
       "       'Anti-solvent', 'PrecursorSolvent', 'AnnealingTemperature',\n",
       "       'AnnealingTime', 'Jsc', 'Voc', 'FF', 'PCE', 'Article', 'Unnamed: 24'],\n",
       "      dtype='object')"
      ]
     },
     "execution_count": 54,
     "metadata": {},
     "output_type": "execute_result"
    }
   ],
   "source": [
    "\n",
    "df.columns"
   ]
  },
  {
   "cell_type": "code",
   "execution_count": 56,
   "metadata": {},
   "outputs": [],
   "source": [
    "df=df.drop(\"MA\",axis=1)\n",
    "df=df.drop(\"Pb\",axis=1)\n",
    "df=df.drop(\"Br\",axis=1)\n",
    "df=df.drop(\"Article\",axis=1)\n",
    "df=df.drop(\"Unnamed: 24\",axis=1)"
   ]
  },
  {
   "cell_type": "code",
   "execution_count": 57,
   "metadata": {},
   "outputs": [
    {
     "data": {
      "text/plain": [
       "(595, 19)"
      ]
     },
     "execution_count": 57,
     "metadata": {},
     "output_type": "execute_result"
    }
   ],
   "source": [
    "df.shape"
   ]
  },
  {
   "cell_type": "code",
   "execution_count": 58,
   "metadata": {},
   "outputs": [
    {
     "data": {
      "text/plain": [
       "Index(['Cs', 'FA', 'I', 'structure', 'bandgap', 'substrate', 'ETL', 'HTL',\n",
       "       'electrode', 'depositionProcedure', 'depositionMethod', 'Anti-solvent',\n",
       "       'PrecursorSolvent', 'AnnealingTemperature', 'AnnealingTime', 'Jsc',\n",
       "       'Voc', 'FF', 'PCE'],\n",
       "      dtype='object')"
      ]
     },
     "execution_count": 58,
     "metadata": {},
     "output_type": "execute_result"
    }
   ],
   "source": [
    "df.columns"
   ]
  },
  {
   "cell_type": "code",
   "execution_count": 59,
   "metadata": {},
   "outputs": [
    {
     "name": "stdout",
     "output_type": "stream",
     "text": [
      "<class 'pandas.core.frame.DataFrame'>\n",
      "RangeIndex: 595 entries, 0 to 594\n",
      "Data columns (total 16 columns):\n",
      " #   Column                Non-Null Count  Dtype  \n",
      "---  ------                --------------  -----  \n",
      " 0   Cs                    595 non-null    float64\n",
      " 1   FA                    595 non-null    float64\n",
      " 2   I                     595 non-null    float64\n",
      " 3   structure             595 non-null    int64  \n",
      " 4   bandgap               595 non-null    object \n",
      " 5   substrate             595 non-null    object \n",
      " 6   ETL                   595 non-null    object \n",
      " 7   HTL                   583 non-null    object \n",
      " 8   electrode             594 non-null    object \n",
      " 9   depositionProcedure   595 non-null    object \n",
      " 10  depositionMethod      595 non-null    object \n",
      " 11  Anti-solvent          417 non-null    object \n",
      " 12  PrecursorSolvent      587 non-null    object \n",
      " 13  AnnealingTemperature  583 non-null    float64\n",
      " 14  AnnealingTime         583 non-null    float64\n",
      " 15  PCE                   595 non-null    object \n",
      "dtypes: float64(5), int64(1), object(10)\n",
      "memory usage: 74.5+ KB\n"
     ]
    }
   ],
   "source": [
    "df=df.drop(\"Jsc\",axis=1)\n",
    "df=df.drop(\"Voc\",axis=1)\n",
    "df=df.drop(\"FF\",axis=1)\n",
    "df.info()"
   ]
  },
  {
   "cell_type": "code",
   "execution_count": 60,
   "metadata": {},
   "outputs": [],
   "source": [
    "df['bandgap']=df['bandgap'].astype(\"float64\")\n",
    "df['PCE']=df['PCE'].astype(\"float64\")"
   ]
  },
  {
   "cell_type": "code",
   "execution_count": 61,
   "metadata": {},
   "outputs": [],
   "source": [
    "df[\"AnnealingTemperature\"]=df[\"AnnealingTemperature\"].fillna(20)\n",
    "df[\"AnnealingTime\"]=df[\"AnnealingTime\"].fillna(0)"
   ]
  },
  {
   "cell_type": "code",
   "execution_count": 62,
   "metadata": {},
   "outputs": [],
   "source": [
    "df.to_excel(\"dataUnfilled.xlsx\",index=False)\n"
   ]
  },
  {
   "cell_type": "code",
   "execution_count": 63,
   "metadata": {},
   "outputs": [
    {
     "name": "stdout",
     "output_type": "stream",
     "text": [
      "<class 'pandas.core.frame.DataFrame'>\n",
      "RangeIndex: 595 entries, 0 to 594\n",
      "Data columns (total 16 columns):\n",
      " #   Column                Non-Null Count  Dtype  \n",
      "---  ------                --------------  -----  \n",
      " 0   Cs                    595 non-null    float64\n",
      " 1   FA                    595 non-null    float64\n",
      " 2   I                     595 non-null    float64\n",
      " 3   structure             595 non-null    int64  \n",
      " 4   bandgap               595 non-null    float64\n",
      " 5   substrate             595 non-null    object \n",
      " 6   ETL                   595 non-null    object \n",
      " 7   HTL                   583 non-null    object \n",
      " 8   electrode             594 non-null    object \n",
      " 9   depositionProcedure   595 non-null    object \n",
      " 10  depositionMethod      595 non-null    object \n",
      " 11  Anti-solvent          417 non-null    object \n",
      " 12  PrecursorSolvent      587 non-null    object \n",
      " 13  AnnealingTemperature  595 non-null    float64\n",
      " 14  AnnealingTime         595 non-null    float64\n",
      " 15  PCE                   595 non-null    float64\n",
      "dtypes: float64(7), int64(1), object(8)\n",
      "memory usage: 74.5+ KB\n"
     ]
    }
   ],
   "source": [
    "df.info()"
   ]
  },
  {
   "cell_type": "code",
   "execution_count": 64,
   "metadata": {},
   "outputs": [],
   "source": [
    "df=df.fillna(\"unused\")\n",
    "df.to_excel(\"dataFilled.xlsx\",index=False)"
   ]
  }
 ],
 "metadata": {
  "kernelspec": {
   "display_name": "base",
   "language": "python",
   "name": "python3"
  },
  "language_info": {
   "codemirror_mode": {
    "name": "ipython",
    "version": 3
   },
   "file_extension": ".py",
   "mimetype": "text/x-python",
   "name": "python",
   "nbconvert_exporter": "python",
   "pygments_lexer": "ipython3",
   "version": "3.11.7"
  }
 },
 "nbformat": 4,
 "nbformat_minor": 2
}
